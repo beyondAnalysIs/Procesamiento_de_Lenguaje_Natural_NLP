{
 "cells": [
  {
   "cell_type": "markdown",
   "id": "448caad5",
   "metadata": {},
   "source": [
    "### Métodos de vectorización\n",
    "- Conversion de documentación en vectores('bolsas de palabras', 'TF-IDF)\n",
    "- palabras a vectores\n",
    "- descripcion de la representacion de documentos mediante una secuencia de vectores(embeddings)\n",
    "\n",
    "### Modelos para secuencias en aprendizaje profundo\n",
    "- modelos construidos para secuencias(CNN, RNN, transformers)\n",
    "- relevancia del orden de las palabras en una sentencia\n",
    "- aplicaciones en traducciones de idiomas, respuestas a preguntas, chat bots\n",
    "\n",
    "### Incrustaciones de palabras (word embeddings)\n",
    "- introducción a word2vec y glove\n",
    "-uso de redes neuronales en word2vec\n",
    "    - continuous bag of words (CBOW) y skip-gram\n",
    "- descripción de GloVe y su relación con los sistemas de recomendación\n",
    "- descripción general del proceso de formación de una red neuronal\n",
    "\n",
    "### Uso práctico\n",
    "- comparación entre incrustaciones de palabras y otros métodos de vectorización\n",
    "- descripción de analogías de palabras con incrustaciones de palabras"
   ]
  },
  {
   "cell_type": "code",
   "execution_count": null,
   "id": "28725634",
   "metadata": {},
   "outputs": [],
   "source": [
    "import gensim\n",
    "from pathlib import Path\n",
    "ruta = Path('C:\\\\Users\\\\ander\\\\Escritorio\\\\PYTHON\\\\Python 2025\\\\Procesamiento_lenguaje_natural_NLP\\\\datasets\\\\SBW-vectors-300-min5.txt')\n",
    "# verificar si esta la ruta\n",
    "if not ruta.exists():\n",
    "    print('No se encontro el archivo')\n",
    "vectores =  gensim.models.KeyedVectors.load_word2vec_format(\n",
    "    ruta,\n",
    "    binary=False,\n",
    "    unicode_errors='ignore'\n",
    "    )\n"
   ]
  },
  {
   "cell_type": "code",
   "execution_count": null,
   "id": "eedbc048",
   "metadata": {},
   "outputs": [],
   "source": [
    "def analogias(v1,v2,v3):\n",
    "    similitud = vectores.most_similar(\n",
    "        positive=[v1,v3],\n",
    "        negative=[v2]\n",
    "    )\n",
    "    print(f'{v1} es a {v2} como {similitud[0][0]} es a {v3}')"
   ]
  },
  {
   "cell_type": "code",
   "execution_count": null,
   "id": "60901995",
   "metadata": {},
   "outputs": [
    {
     "name": "stdout",
     "output_type": "stream",
     "text": [
      "rey es a hombre como reina es a mujer\n"
     ]
    }
   ],
   "source": [
    "analogias('rey','hombre', 'mujer')"
   ]
  },
  {
   "cell_type": "code",
   "execution_count": null,
   "id": "86bcbe1c",
   "metadata": {},
   "outputs": [
    {
     "name": "stdout",
     "output_type": "stream",
     "text": [
      "Alemania es a alemán como España es a español\n"
     ]
    }
   ],
   "source": [
    "analogias('Alemania', 'alemán','español')"
   ]
  },
  {
   "cell_type": "code",
   "execution_count": null,
   "id": "d8e5402c",
   "metadata": {},
   "outputs": [
    {
     "name": "stdout",
     "output_type": "stream",
     "text": [
      "pan es a trigo como yogur es a leche\n"
     ]
    }
   ],
   "source": [
    "analogias('pan','trigo', 'leche')"
   ]
  },
  {
   "cell_type": "code",
   "execution_count": null,
   "id": "60957f03",
   "metadata": {},
   "outputs": [
    {
     "name": "stdout",
     "output_type": "stream",
     "text": [
      "vaca es a leche como gallina es a huevo\n"
     ]
    }
   ],
   "source": [
    "analogias('vaca', 'leche', 'huevo')"
   ]
  },
  {
   "cell_type": "code",
   "execution_count": null,
   "id": "b2ff48ab",
   "metadata": {},
   "outputs": [
    {
     "name": "stdout",
     "output_type": "stream",
     "text": [
      "chimenea es a humo como desagüe es a agua\n"
     ]
    }
   ],
   "source": [
    "analogias('chimenea', 'humo', 'agua')"
   ]
  },
  {
   "cell_type": "code",
   "execution_count": null,
   "id": "70933638",
   "metadata": {},
   "outputs": [
    {
     "name": "stdout",
     "output_type": "stream",
     "text": [
      "carne es a carnívoro como verduras es a vegetal\n"
     ]
    }
   ],
   "source": [
    "analogias('carne', 'carnívoro', 'vegetal')"
   ]
  },
  {
   "cell_type": "code",
   "execution_count": null,
   "id": "0c9dfe4a",
   "metadata": {},
   "outputs": [
    {
     "name": "stdout",
     "output_type": "stream",
     "text": [
      "carne es a carnívoro como cebolla es a tomate\n"
     ]
    }
   ],
   "source": [
    "analogias('carne','carnívoro', 'tomate')"
   ]
  },
  {
   "cell_type": "code",
   "execution_count": 18,
   "id": "db973044",
   "metadata": {},
   "outputs": [
    {
     "name": "stdout",
     "output_type": "stream",
     "text": [
      "Madrid es a España como Milán es a Italia\n"
     ]
    }
   ],
   "source": [
    "analogias('Madrid', 'España', 'Italia')"
   ]
  },
  {
   "cell_type": "code",
   "execution_count": null,
   "id": "5da41149",
   "metadata": {},
   "outputs": [],
   "source": [
    "def cercanos(v): \n",
    "    vecinos = vectores.most_similar(positive=[v])\n",
    "    print(f'vecinos de: {v}')\n",
    "    for word, score in vecinos:\n",
    "        print('\\t%s: %s' % (word, score))    "
   ]
  },
  {
   "cell_type": "code",
   "execution_count": 21,
   "id": "59bb02e2",
   "metadata": {},
   "outputs": [
    {
     "name": "stdout",
     "output_type": "stream",
     "text": [
      "vecinos de: rey\n",
      "\tmonarca: 0.8033342957496643\n",
      "\treyes: 0.7648581862449646\n",
      "\treino: 0.7598406672477722\n",
      "\tpríncipe: 0.7326977252960205\n",
      "\treina: 0.7253803014755249\n",
      "\tHarthacnut: 0.7045773863792419\n",
      "\tRagnald: 0.7024436593055725\n",
      "\tSverkersson: 0.7003424167633057\n",
      "\tregente: 0.6984726786613464\n",
      "\tHardeknut: 0.6976818442344666\n"
     ]
    }
   ],
   "source": [
    "cercanos('rey')"
   ]
  },
  {
   "cell_type": "code",
   "execution_count": 22,
   "id": "8d204818",
   "metadata": {},
   "outputs": [
    {
     "name": "stdout",
     "output_type": "stream",
     "text": [
      "vecinos de: vaca\n",
      "\toveja: 0.8072116374969482\n",
      "\tcabra: 0.7873219847679138\n",
      "\tleche: 0.7388591170310974\n",
      "\tternera: 0.7252089977264404\n",
      "\tcarne: 0.7148928046226501\n",
      "\tvacas: 0.7072904706001282\n",
      "\ttarine: 0.7044098973274231\n",
      "\tcerdo: 0.7038296461105347\n",
      "\tmontbéliarde: 0.6898907423019409\n",
      "\tcordero: 0.6812933683395386\n"
     ]
    }
   ],
   "source": [
    "cercanos('vaca')"
   ]
  },
  {
   "cell_type": "code",
   "execution_count": 24,
   "id": "cb5491d5",
   "metadata": {},
   "outputs": [
    {
     "name": "stdout",
     "output_type": "stream",
     "text": [
      "vecinos de: carnívoro\n",
      "\therbívoro: 0.797252893447876\n",
      "\tmamífero: 0.7704545855522156\n",
      "\treptil: 0.7633126974105835\n",
      "\tinsectívoro: 0.756209135055542\n",
      "\tcarnívoros: 0.7518879771232605\n",
      "\tomnívoro: 0.7500133514404297\n",
      "\tsemiacuático: 0.7382871508598328\n",
      "\tpiscívoro: 0.7333859205245972\n",
      "\tmarsupial: 0.73099285364151\n",
      "\tmustélido: 0.729438066482544\n"
     ]
    }
   ],
   "source": [
    "cercanos('carnívoro')"
   ]
  },
  {
   "cell_type": "code",
   "execution_count": 26,
   "id": "7ba8b80a",
   "metadata": {},
   "outputs": [
    {
     "name": "stdout",
     "output_type": "stream",
     "text": [
      "vecinos de: vegetariano\n",
      "\tvegetariana: 0.7732128500938416\n",
      "\tvegano: 0.7533971071243286\n",
      "\tvegetarianismo: 0.6788924336433411\n",
      "\tvegetarianos: 0.6576808094978333\n",
      "\tvegana: 0.6402704119682312\n",
      "\tabstemio: 0.6220594644546509\n",
      "\tveganismo: 0.6216253042221069\n",
      "\tcrudiveganismo: 0.6141817569732666\n",
      "\tveganos: 0.6027854681015015\n",
      "\tcrudivorismo: 0.5833908915519714\n"
     ]
    }
   ],
   "source": [
    "cercanos('vegetariano')"
   ]
  },
  {
   "cell_type": "code",
   "execution_count": null,
   "id": "28c2bfac",
   "metadata": {},
   "outputs": [],
   "source": []
  }
 ],
 "metadata": {
  "kernelspec": {
   "display_name": "env_nlp",
   "language": "python",
   "name": "python3"
  },
  "language_info": {
   "codemirror_mode": {
    "name": "ipython",
    "version": 3
   },
   "file_extension": ".py",
   "mimetype": "text/x-python",
   "name": "python",
   "nbconvert_exporter": "python",
   "pygments_lexer": "ipython3",
   "version": "3.12.2"
  }
 },
 "nbformat": 4,
 "nbformat_minor": 5
}
