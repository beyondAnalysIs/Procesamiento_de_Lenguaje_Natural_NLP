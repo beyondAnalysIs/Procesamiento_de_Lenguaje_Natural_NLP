{
 "cells": [
  {
   "cell_type": "markdown",
   "id": "448caad5",
   "metadata": {},
   "source": [
    "### Métodos de vectorización\n",
    "- Conversion de documentación en vectores('bolsas de palabras', 'TF-IDF)\n",
    "- palabras a vectores\n",
    "- descripcion de la representacion de documentos mediante una secuencia de vectores(embeddings)\n",
    "\n",
    "### Modelos para secuencias en aprendizaje profundo\n",
    "- modelos construidos para secuencias(CNN, RNN, transformers)\n",
    "- relevancia del orden de las palabras en una sentencia\n",
    "- aplicaciones en traducciones de idiomas, respuestas a preguntas, chat bots\n",
    "\n",
    "### Incrustaciones de palabras (word embeddings)\n",
    "- introducción a word2vec y glove\n",
    "-uso de redes neuronales en word2vec\n",
    "    - continuous bag of words (CBOW) y skip-gram\n",
    "- descripción de GloVe y su relación con los sistemas de recomendación\n",
    "- descripción general del proceso de formación de una red neuronal\n",
    "\n",
    "### Uso práctico\n",
    "- comparación entre incrustaciones de palabras y otros métodos de vectorización\n",
    "- descripción de analogías de palabras con incrustaciones de palabras"
   ]
  },
  {
   "cell_type": "code",
   "execution_count": null,
   "id": "28725634",
   "metadata": {},
   "outputs": [],
   "source": [
    "import gensim\n",
    "ruta = Path('C:\\\\Users\\\\ander\\\\Escritorio\\\\PYTHON\\\\Python 2025\\\\Procesamiento_lenguaje_natural_NLP\\\\datasets\\\\SBW-vectors-300-min5.txt')\n",
    "vectores =  gensim.models.KeyedVectors.load_word2vec_format(\n",
    "    ruta,\n",
    "    binary=False,\n",
    "    unicode_errors='ignore'\n",
    "    )\n"
   ]
  },
  {
   "cell_type": "code",
   "execution_count": 8,
   "id": "eedbc048",
   "metadata": {},
   "outputs": [],
   "source": [
    "def analogias(v1,v2,v3):\n",
    "    similitud = vectores.most_similar(\n",
    "        positive=[v1,v3],\n",
    "        negative=[v2]\n",
    "    )\n",
    "    print(f'{v1} es a {v2} como {similitud[0][0]} es a {v3}')"
   ]
  },
  {
   "cell_type": "code",
   "execution_count": 9,
   "id": "60901995",
   "metadata": {},
   "outputs": [
    {
     "name": "stdout",
     "output_type": "stream",
     "text": [
      "rey es a hombre como reina es a mujer\n"
     ]
    }
   ],
   "source": [
    "analogias('rey','hombre', 'mujer')"
   ]
  },
  {
   "cell_type": "code",
   "execution_count": 10,
   "id": "86bcbe1c",
   "metadata": {},
   "outputs": [
    {
     "name": "stdout",
     "output_type": "stream",
     "text": [
      "Alemania es a alemán como España es a español\n"
     ]
    }
   ],
   "source": [
    "analogias('Alemania', 'alemán','español')"
   ]
  },
  {
   "cell_type": "code",
   "execution_count": 12,
   "id": "d8e5402c",
   "metadata": {},
   "outputs": [
    {
     "name": "stdout",
     "output_type": "stream",
     "text": [
      "pan es a trigo como yogur es a leche\n"
     ]
    }
   ],
   "source": [
    "analogias('pan','trigo', 'leche')"
   ]
  },
  {
   "cell_type": "code",
   "execution_count": 13,
   "id": "60957f03",
   "metadata": {},
   "outputs": [
    {
     "name": "stdout",
     "output_type": "stream",
     "text": [
      "vaca es a leche como gallina es a huevo\n"
     ]
    }
   ],
   "source": [
    "analogias('vaca', 'leche', 'huevo')"
   ]
  },
  {
   "cell_type": "code",
   "execution_count": 15,
   "id": "b2ff48ab",
   "metadata": {},
   "outputs": [
    {
     "name": "stdout",
     "output_type": "stream",
     "text": [
      "chimenea es a humo como desagüe es a agua\n"
     ]
    }
   ],
   "source": [
    "analogias('chimenea', 'humo', 'agua')"
   ]
  },
  {
   "cell_type": "code",
   "execution_count": null,
   "id": "70933638",
   "metadata": {},
   "outputs": [],
   "source": []
  }
 ],
 "metadata": {
  "kernelspec": {
   "display_name": "env_nlp",
   "language": "python",
   "name": "python3"
  },
  "language_info": {
   "codemirror_mode": {
    "name": "ipython",
    "version": 3
   },
   "file_extension": ".py",
   "mimetype": "text/x-python",
   "name": "python",
   "nbconvert_exporter": "python",
   "pygments_lexer": "ipython3",
   "version": "3.12.2"
  }
 },
 "nbformat": 4,
 "nbformat_minor": 5
}
