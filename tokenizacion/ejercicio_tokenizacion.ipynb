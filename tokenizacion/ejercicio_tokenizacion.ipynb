{
 "cells": [
  {
   "cell_type": "code",
   "execution_count": null,
   "id": "efdfec58",
   "metadata": {},
   "outputs": [
    {
     "data": {
      "text/html": [
       "<div>\n",
       "<style scoped>\n",
       "    .dataframe tbody tr th:only-of-type {\n",
       "        vertical-align: middle;\n",
       "    }\n",
       "\n",
       "    .dataframe tbody tr th {\n",
       "        vertical-align: top;\n",
       "    }\n",
       "\n",
       "    .dataframe thead th {\n",
       "        text-align: right;\n",
       "    }\n",
       "</style>\n",
       "<table border=\"1\" class=\"dataframe\">\n",
       "  <thead>\n",
       "    <tr style=\"text-align: right;\">\n",
       "      <th></th>\n",
       "      <th>url</th>\n",
       "      <th>news</th>\n",
       "      <th>Type</th>\n",
       "    </tr>\n",
       "  </thead>\n",
       "  <tbody>\n",
       "    <tr>\n",
       "      <th>0</th>\n",
       "      <td>https://www.larepublica.co/redirect/post/3201905</td>\n",
       "      <td>Durante el foro La banca articulador empresari...</td>\n",
       "      <td>Otra</td>\n",
       "    </tr>\n",
       "    <tr>\n",
       "      <th>1</th>\n",
       "      <td>https://www.larepublica.co/redirect/post/3210288</td>\n",
       "      <td>El regulador de valores de China dijo el domin...</td>\n",
       "      <td>Regulaciones</td>\n",
       "    </tr>\n",
       "    <tr>\n",
       "      <th>2</th>\n",
       "      <td>https://www.larepublica.co/redirect/post/3240676</td>\n",
       "      <td>En una industria históricamente masculina como...</td>\n",
       "      <td>Alianzas</td>\n",
       "    </tr>\n",
       "    <tr>\n",
       "      <th>3</th>\n",
       "      <td>https://www.larepublica.co/redirect/post/3342889</td>\n",
       "      <td>Con el dato de marzo el IPC interanual encaden...</td>\n",
       "      <td>Macroeconomia</td>\n",
       "    </tr>\n",
       "    <tr>\n",
       "      <th>4</th>\n",
       "      <td>https://www.larepublica.co/redirect/post/3427208</td>\n",
       "      <td>Ayer en Cartagena se dio inicio a la versión n...</td>\n",
       "      <td>Otra</td>\n",
       "    </tr>\n",
       "    <tr>\n",
       "      <th>...</th>\n",
       "      <td>...</td>\n",
       "      <td>...</td>\n",
       "      <td>...</td>\n",
       "    </tr>\n",
       "    <tr>\n",
       "      <th>1212</th>\n",
       "      <td>https://www.bbva.com/es/como-lograr-que-los-in...</td>\n",
       "      <td>En la vida de toda empresa emergente llega un ...</td>\n",
       "      <td>Innovacion</td>\n",
       "    </tr>\n",
       "    <tr>\n",
       "      <th>1213</th>\n",
       "      <td>https://www.bbva.com/es/podcast-como-nos-afect...</td>\n",
       "      <td>La espiral alcista de los precios continúa y g...</td>\n",
       "      <td>Macroeconomia</td>\n",
       "    </tr>\n",
       "    <tr>\n",
       "      <th>1214</th>\n",
       "      <td>https://www.larepublica.co/redirect/post/3253735</td>\n",
       "      <td>Las grandes derrotas nacionales son experienci...</td>\n",
       "      <td>Alianzas</td>\n",
       "    </tr>\n",
       "    <tr>\n",
       "      <th>1215</th>\n",
       "      <td>https://www.bbva.com/es/bbva-y-barcelona-healt...</td>\n",
       "      <td>BBVA ha alcanzado un acuerdo de colaboración c...</td>\n",
       "      <td>Innovacion</td>\n",
       "    </tr>\n",
       "    <tr>\n",
       "      <th>1216</th>\n",
       "      <td>https://www.larepublica.co/redirect/post/3263980</td>\n",
       "      <td>Casi entrando a la parte final de noviembre la...</td>\n",
       "      <td>Alianzas</td>\n",
       "    </tr>\n",
       "  </tbody>\n",
       "</table>\n",
       "<p>1217 rows × 3 columns</p>\n",
       "</div>"
      ],
      "text/plain": [
       "                                                    url  \\\n",
       "0      https://www.larepublica.co/redirect/post/3201905   \n",
       "1      https://www.larepublica.co/redirect/post/3210288   \n",
       "2      https://www.larepublica.co/redirect/post/3240676   \n",
       "3      https://www.larepublica.co/redirect/post/3342889   \n",
       "4      https://www.larepublica.co/redirect/post/3427208   \n",
       "...                                                 ...   \n",
       "1212  https://www.bbva.com/es/como-lograr-que-los-in...   \n",
       "1213  https://www.bbva.com/es/podcast-como-nos-afect...   \n",
       "1214   https://www.larepublica.co/redirect/post/3253735   \n",
       "1215  https://www.bbva.com/es/bbva-y-barcelona-healt...   \n",
       "1216   https://www.larepublica.co/redirect/post/3263980   \n",
       "\n",
       "                                                   news           Type  \n",
       "0     Durante el foro La banca articulador empresari...           Otra  \n",
       "1     El regulador de valores de China dijo el domin...   Regulaciones  \n",
       "2     En una industria históricamente masculina como...       Alianzas  \n",
       "3     Con el dato de marzo el IPC interanual encaden...  Macroeconomia  \n",
       "4     Ayer en Cartagena se dio inicio a la versión n...           Otra  \n",
       "...                                                 ...            ...  \n",
       "1212  En la vida de toda empresa emergente llega un ...     Innovacion  \n",
       "1213  La espiral alcista de los precios continúa y g...  Macroeconomia  \n",
       "1214  Las grandes derrotas nacionales son experienci...       Alianzas  \n",
       "1215  BBVA ha alcanzado un acuerdo de colaboración c...     Innovacion  \n",
       "1216  Casi entrando a la parte final de noviembre la...       Alianzas  \n",
       "\n",
       "[1217 rows x 3 columns]"
      ]
     },
     "execution_count": 10,
     "metadata": {},
     "output_type": "execute_result"
    }
   ],
   "source": [
    "import pandas as pd\n",
    "# carga de dataset\n",
    "df = pd.read_csv(r'C:/Users/ander/Escritorio/PYTHON/Python 2025/Procesamiento_lenguaje_natural_NLP/datasets/df_total.csv', sep=',', encoding = 'UTF-8')\n",
    "df"
   ]
  },
  {
   "cell_type": "code",
   "execution_count": 21,
   "id": "e1887458",
   "metadata": {},
   "outputs": [
    {
     "name": "stdout",
     "output_type": "stream",
     "text": [
      "Con el dato de marzo el IPC interanual encadena su decimoquinta tasa positiva consecutiva. La\n",
      "inflación publicada por el INE se ha mantenido igual respecto al avance del 30 de marzo y se sitúa\n",
      "22 puntos por encima del dato de febrero que ascendió al 76.De esos 22 puntos de diferencia la mayor\n",
      "parte la colocó el grupo de la vivienda 09 puntos por la subida de la electricidad y el del\n",
      "transporte 07 puntos por el alza de los carburantes. También impulsaron el IPC de marzo el aumento\n",
      "de los precios de la restauración y los servicios de alojamiento y al encarecimiento generalizado de\n",
      "los alimentos especialmente del pescado y el marisco de la carne de las legumbres y hortalizas y de\n",
      "la leche el queso y los huevos.Sin tener en cuenta la rebaja del impuesto especial sobre la\n",
      "electricidad y las variaciones sobre otros impuestos el IPC interanual alcanzó en marzo 107 nueve\n",
      "décimas más que la tasa general del 98. Así lo refleja el IPC a impuestos constantes que el INE\n",
      "también publica en el marco de esta estadística.La inflación subyacente sin alimentos no elaborados\n",
      "ni productos energéticos aumentó en marzo cuatro décimas hasta 34 su valor más alto desde septiembre\n",
      "de 2008. De este modo la subyacente se sitúa más de seis puntos por debajo de la tasa del IPC\n",
      "general.En el último año la calefacción el alumbrado y la distribución de agua se han encarecido 683\n",
      "los aceites y grasas han elevado sus precios un 321 y el transporte personal es un 193 más caro por\n",
      "el mayor coste de los carburantes. También registran alzas de dos dígitos los huevos y la leche un\n",
      "11 más caros que hace un año y la carne de ovino y el pescado fresco y congelado con repuntes del\n",
      "101 en ambos casos.Cómo están los precios por comunidadesCastillaLa Mancha se situó a la cabeza con\n",
      "una tasa de inflación del 117 seguida de Castilla y León 11 Aragón 107 La Rioja 106 Galicia 105\n",
      "Extremadura 103 Cantabria 102 y Comunidad Valenciana 102.En el otro las comunidades donde se\n",
      "registraron las menores subidas fueron Canarias 84 Madrid 9 Baleares 94 Asturias 95 País Vasco 95 y\n",
      "Cataluña 95.El IPC dispara su tasa mensual al 3En tasa mensual el IPC registró en marzo un\n",
      "incremento del 3 respecto a febrero su mayor alza mensual en cualquier mes desde 2002 cuando se\n",
      "cambió la metodología de esta estadística para recoger mejor la evolución del mercado. Echando la\n",
      "vista más atrás tomando series anteriores el repunte mensual de marzo es el más elevado desde agosto\n",
      "de 1977.En el tercer mes de 2022 el Índice de Precios de Consumo Armonizado IPCA situó su tasa\n",
      "interanual en 98 más de dos puntos por encima de la de febrero. Por su parte el indicador adelantado\n",
      "del IPCA avanzó un 39 en tasa mensual.\n"
     ]
    }
   ],
   "source": [
    "import textwrap\n",
    "print(textwrap.fill(df['news'][3], width=100))"
   ]
  },
  {
   "cell_type": "code",
   "execution_count": 23,
   "id": "620aaea1",
   "metadata": {},
   "outputs": [
    {
     "name": "stdout",
     "output_type": "stream",
     "text": [
      "Index(['url', 'news', 'Type'], dtype='object')\n"
     ]
    }
   ],
   "source": [
    "print(df.columns)"
   ]
  },
  {
   "cell_type": "code",
   "execution_count": 24,
   "id": "d9f70bf8",
   "metadata": {},
   "outputs": [],
   "source": [
    "# variable de entrada y etiqueta\n",
    "X = df['news']\n",
    "y = df['Type']"
   ]
  },
  {
   "cell_type": "code",
   "execution_count": 25,
   "id": "4f42693a",
   "metadata": {},
   "outputs": [
    {
     "name": "stdout",
     "output_type": "stream",
     "text": [
      "Type\n",
      "Macroeconomia     340\n",
      "Alianzas          247\n",
      "Innovacion        195\n",
      "Regulaciones      142\n",
      "Sostenibilidad    137\n",
      "Otra              130\n",
      "Reputacion         26\n",
      "Name: count, dtype: int64\n"
     ]
    }
   ],
   "source": [
    "# total de type\n",
    "print(y.value_counts())"
   ]
  },
  {
   "cell_type": "code",
   "execution_count": 26,
   "id": "c0840dd2",
   "metadata": {},
   "outputs": [],
   "source": [
    "from sklearn.model_selection import train_test_split\n",
    "# separacion de datos de entrenamiento y prueba\n",
    "X_train, X_test, y_train, y_test = train_test_split(X, y, test_size=0.2, random_state=42)"
   ]
  },
  {
   "cell_type": "code",
   "execution_count": 27,
   "id": "b90b0201",
   "metadata": {},
   "outputs": [
    {
     "data": {
      "text/plain": [
       "432     En aras de seguir promoviendo la utilización d...\n",
       "277     El suprarreciclaje es transformar un desecho e...\n",
       "721     Como cambiarle a un coche su motor diésel por ...\n",
       "852     El Consejo de Administración de Bbva acordó la...\n",
       "678     En México el efectivo continúa siendo uno de l...\n",
       "                              ...                        \n",
       "1044    Teniendo en cuenta el Octavo Panel de Reputaci...\n",
       "1095    En la actual coyuntura geopolítica, marcada po...\n",
       "1130    En un mundo tan hiperconectado como el actual,...\n",
       "860     El Acuerdo de Apertura Contra la Inflación y l...\n",
       "1126    NuHome es una proptech que logró recaudar US75...\n",
       "Name: news, Length: 973, dtype: object"
      ]
     },
     "execution_count": 27,
     "metadata": {},
     "output_type": "execute_result"
    }
   ],
   "source": [
    "X_train"
   ]
  },
  {
   "cell_type": "code",
   "execution_count": 28,
   "id": "1e6a3f44",
   "metadata": {},
   "outputs": [
    {
     "data": {
      "text/plain": [
       "541     En este 'podcast' de 'Píldoras Agile', Ricardo...\n",
       "259     Cada vez más usuarios optan por alquilar una b...\n",
       "43      Cerrejón Drummond y Cerro Matoso fueron las em...\n",
       "1006    En un contexto complejo y retador como el pres...\n",
       "584     La empresa que funciona como el Airbnb del cow...\n",
       "                              ...                        \n",
       "420     BBVA Allianz Seguros ha registrado durante los...\n",
       "243     Así lo ha confirmado hoy la oficina comunitari...\n",
       "59      Tras la revelación del Departamento Administra...\n",
       "1072    El sector avícola está agitado por el impacto ...\n",
       "63      Desde este lunes está al aire y funcionando Ub...\n",
       "Name: news, Length: 244, dtype: object"
      ]
     },
     "execution_count": 28,
     "metadata": {},
     "output_type": "execute_result"
    }
   ],
   "source": [
    "X_test"
   ]
  },
  {
   "cell_type": "code",
   "execution_count": 42,
   "id": "df89a81a",
   "metadata": {},
   "outputs": [
    {
     "data": {
      "text/plain": [
       "432           Alianzas\n",
       "277     Sostenibilidad\n",
       "721         Innovacion\n",
       "852               Otra\n",
       "678         Innovacion\n",
       "             ...      \n",
       "1044        Reputacion\n",
       "1095    Sostenibilidad\n",
       "1130        Innovacion\n",
       "860      Macroeconomia\n",
       "1126          Alianzas\n",
       "Name: Type, Length: 973, dtype: object"
      ]
     },
     "execution_count": 42,
     "metadata": {},
     "output_type": "execute_result"
    }
   ],
   "source": [
    "y_train"
   ]
  },
  {
   "cell_type": "code",
   "execution_count": 44,
   "id": "6c03787a",
   "metadata": {},
   "outputs": [
    {
     "data": {
      "text/plain": [
       "541         Innovacion\n",
       "259     Sostenibilidad\n",
       "43          Reputacion\n",
       "1006     Macroeconomia\n",
       "584           Alianzas\n",
       "             ...      \n",
       "420      Macroeconomia\n",
       "243      Macroeconomia\n",
       "59       Macroeconomia\n",
       "1072     Macroeconomia\n",
       "63            Alianzas\n",
       "Name: Type, Length: 244, dtype: object"
      ]
     },
     "execution_count": 44,
     "metadata": {},
     "output_type": "execute_result"
    }
   ],
   "source": [
    "y_test"
   ]
  },
  {
   "cell_type": "code",
   "execution_count": 35,
   "id": "82dcb20b",
   "metadata": {},
   "outputs": [
    {
     "name": "stdout",
     "output_type": "stream",
     "text": [
      "[[0 2 0 ... 0 0 0]\n",
      " [0 1 0 ... 0 0 0]\n",
      " [0 0 0 ... 0 0 0]\n",
      " ...\n",
      " [0 0 0 ... 0 0 0]\n",
      " [0 0 0 ... 0 0 0]\n",
      " [0 2 0 ... 0 0 0]]\n"
     ]
    }
   ],
   "source": [
    "# transformar text a vector\n",
    "from sklearn.feature_extraction.text  import CountVectorizer\n",
    "vectorizer = CountVectorizer()\n",
    "X_train_transformed = vectorizer.fit_transform(X_train)\n",
    "print(X_train_transformed.toarray())"
   ]
  },
  {
   "cell_type": "code",
   "execution_count": 41,
   "id": "3bd37ab2",
   "metadata": {},
   "outputs": [
    {
     "name": "stdout",
     "output_type": "stream",
     "text": [
      "0.935251798561151\n"
     ]
    }
   ],
   "source": [
    "from sklearn.naive_bayes import MultinomialNB # MultinomialNB sirve para clasificacion de texto\n",
    "from sklearn.metrics import accuracy_score \n",
    "\n",
    "model = MultinomialNB()\n",
    "model.fit(X_train_transformed, y_train)\n",
    "#prediccion\n",
    "y_pred = model.predict(X_train_transformed)\n",
    "print(accuracy_score(y_train,y_pred))\n"
   ]
  },
  {
   "cell_type": "markdown",
   "id": "5dd47d14",
   "metadata": {},
   "source": [
    "### Stemming"
   ]
  },
  {
   "cell_type": "code",
   "execution_count": 46,
   "id": "0044441b",
   "metadata": {},
   "outputs": [
    {
     "name": "stderr",
     "output_type": "stream",
     "text": [
      "[nltk_data] Downloading package punkt to\n",
      "[nltk_data]     C:\\Users\\ander\\AppData\\Roaming\\nltk_data...\n",
      "[nltk_data]   Package punkt is already up-to-date!\n",
      "[nltk_data] Downloading package stopwords to\n",
      "[nltk_data]     C:\\Users\\ander\\AppData\\Roaming\\nltk_data...\n",
      "[nltk_data]   Package stopwords is already up-to-date!\n"
     ]
    },
    {
     "data": {
      "text/plain": [
       "True"
      ]
     },
     "execution_count": 46,
     "metadata": {},
     "output_type": "execute_result"
    }
   ],
   "source": [
    "# quitando el sufijo  a las palabras\n",
    "import nltk \n",
    "from nltk.tokenize import word_tokenize\n",
    "from nltk.corpus import stopwords\n",
    "from nltk.stem import SnowballStemmer\n",
    "import spacy\n",
    "\n",
    "nltk.download('punkt')\n",
    "nltk.download('stopwords')"
   ]
  },
  {
   "cell_type": "code",
   "execution_count": 48,
   "id": "36c2d638",
   "metadata": {},
   "outputs": [],
   "source": [
    "stemmer = SnowballStemmer('spanish')"
   ]
  },
  {
   "cell_type": "code",
   "execution_count": null,
   "id": "93a92fa2",
   "metadata": {},
   "outputs": [],
   "source": []
  }
 ],
 "metadata": {
  "kernelspec": {
   "display_name": "env_nlp",
   "language": "python",
   "name": "python3"
  },
  "language_info": {
   "codemirror_mode": {
    "name": "ipython",
    "version": 3
   },
   "file_extension": ".py",
   "mimetype": "text/x-python",
   "name": "python",
   "nbconvert_exporter": "python",
   "pygments_lexer": "ipython3",
   "version": "3.12.2"
  }
 },
 "nbformat": 4,
 "nbformat_minor": 5
}
